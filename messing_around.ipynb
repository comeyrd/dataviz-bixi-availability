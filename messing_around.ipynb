{
 "cells": [
  {
   "cell_type": "code",
   "execution_count": null,
   "id": "6391fa0c",
   "metadata": {},
   "outputs": [],
   "source": [
    "import scripts.display_bixi as dsp_bx\n",
    "import scripts.compute_bixi as cpt_bx\n",
    "import pandas as pd\n"
   ]
  },
  {
   "cell_type": "code",
   "execution_count": 3,
   "id": "ac6bb6c4",
   "metadata": {},
   "outputs": [],
   "source": [
    "stations_info_url = \"https://gbfs.velobixi.com/gbfs/en/station_information.json\"\n",
    "station_status_url = \"https://gbfs.velobixi.com/gbfs/en/station_status.json\""
   ]
  },
  {
   "cell_type": "code",
   "execution_count": 5,
   "id": "c28ec9e8",
   "metadata": {},
   "outputs": [],
   "source": [
    "st = cpt_bx.download_json(station_status_url)"
   ]
  },
  {
   "cell_type": "code",
   "execution_count": 25,
   "id": "0a57d98b",
   "metadata": {},
   "outputs": [],
   "source": [
    "st[\"data\"] = {}"
   ]
  },
  {
   "cell_type": "code",
   "execution_count": 29,
   "id": "30313e20",
   "metadata": {},
   "outputs": [
    {
     "data": {
      "text/plain": [
       "{'last_updated': 1748547028, 'ttl': 10, 'data': {}}"
      ]
     },
     "execution_count": 29,
     "metadata": {},
     "output_type": "execute_result"
    }
   ],
   "source": [
    "st"
   ]
  },
  {
   "cell_type": "code",
   "execution_count": null,
   "id": "37731c90",
   "metadata": {},
   "outputs": [
    {
     "data": {
      "text/plain": [
       "{'station_id': '3',\n",
       " 'num_bikes_available': 18,\n",
       " 'num_ebikes_available': 3,\n",
       " 'num_bikes_disabled': 0,\n",
       " 'num_docks_available': 1,\n",
       " 'num_docks_disabled': 0,\n",
       " 'is_installed': 1,\n",
       " 'is_renting': 1,\n",
       " 'is_returning': 1,\n",
       " 'last_reported': 1748546186,\n",
       " 'eightd_has_available_keys': False,\n",
       " 'is_charging': False}"
      ]
     },
     "execution_count": 9,
     "metadata": {},
     "output_type": "execute_result"
    }
   ],
   "source": [
    "st[\"data\"][\"stations\"]"
   ]
  },
  {
   "cell_type": "code",
   "execution_count": 12,
   "id": "db19a7ad",
   "metadata": {},
   "outputs": [],
   "source": [
    "df = pd.DataFrame(st[\"data\"][\"stations\"])"
   ]
  },
  {
   "cell_type": "code",
   "execution_count": 22,
   "id": "8c42937a",
   "metadata": {},
   "outputs": [
    {
     "data": {
      "text/plain": [
       "np.int64(1748546986)"
      ]
     },
     "execution_count": 22,
     "metadata": {},
     "output_type": "execute_result"
    }
   ],
   "source": [
    "df[\"last_reported\"][0]"
   ]
  },
  {
   "cell_type": "code",
   "execution_count": 20,
   "id": "0eef52a8",
   "metadata": {},
   "outputs": [],
   "source": [
    "from datetime import datetime"
   ]
  },
  {
   "cell_type": "code",
   "execution_count": 27,
   "id": "85ed7d15",
   "metadata": {},
   "outputs": [],
   "source": [
    "dt = datetime.fromtimestamp(1748547028)"
   ]
  },
  {
   "cell_type": "code",
   "execution_count": 28,
   "id": "491666bb",
   "metadata": {},
   "outputs": [
    {
     "name": "stdout",
     "output_type": "stream",
     "text": [
      "2025-05-29 15:30:28\n"
     ]
    }
   ],
   "source": [
    "print(dt)"
   ]
  }
 ],
 "metadata": {
  "kernelspec": {
   "display_name": "bixivenv",
   "language": "python",
   "name": "python3"
  },
  "language_info": {
   "codemirror_mode": {
    "name": "ipython",
    "version": 3
   },
   "file_extension": ".py",
   "mimetype": "text/x-python",
   "name": "python",
   "nbconvert_exporter": "python",
   "pygments_lexer": "ipython3",
   "version": "3.10.17"
  }
 },
 "nbformat": 4,
 "nbformat_minor": 5
}
