{
 "cells": [
  {
   "cell_type": "code",
   "execution_count": 1,
   "id": "c8c59be2",
   "metadata": {},
   "outputs": [],
   "source": [
    "import scripts.display_bixi as dsp_bx\n",
    "import scripts.compute_bixi as cpt_bx\n",
    "import pandas as pd\n",
    "import geopandas as gpd\n",
    "import pandas as pd\n",
    "import geopandas as gpd\n",
    "import folium\n",
    "from folium.plugins import TimestampedGeoJson\n",
    "import json\n",
    "import matplotlib.cm as cm\n",
    "import matplotlib.colors as colors\n",
    "import numpy as np\n",
    "from tqdm import tqdm"
   ]
  },
  {
   "cell_type": "code",
   "execution_count": 2,
   "id": "7da28ec9",
   "metadata": {},
   "outputs": [],
   "source": [
    "def time_str_to_minutes(t):\n",
    "    h, m = map(int, t.split(':'))\n",
    "    return h * 60 + m"
   ]
  },
  {
   "cell_type": "code",
   "execution_count": 3,
   "id": "f8820047",
   "metadata": {},
   "outputs": [],
   "source": [
    "stations_info_url = \"https://gbfs.velobixi.com/gbfs/en/station_information.json\"\n",
    "st = cpt_bx.download_json(stations_info_url)[\"data\"][\"stations\"]"
   ]
  },
  {
   "cell_type": "code",
   "execution_count": 4,
   "id": "e671a0bc",
   "metadata": {},
   "outputs": [],
   "source": [
    "station_info_df = pd.DataFrame(st)"
   ]
  },
  {
   "cell_type": "code",
   "execution_count": 5,
   "id": "5c12553f",
   "metadata": {},
   "outputs": [],
   "source": [
    "import psycopg2\n",
    "import pandas as pd\n",
    "import os\n",
    "from dotenv import load_dotenv\n",
    "from sqlalchemy import create_engine\n",
    "from sqlalchemy.engine import URL\n",
    "\n",
    "load_dotenv()\n",
    "\n",
    "def get_pg_engine():\n",
    "    url = URL.create(\n",
    "        drivername=\"postgresql+psycopg2\",\n",
    "        username=os.getenv(\"user\"),\n",
    "        password=os.getenv(\"password\"),\n",
    "        host=os.getenv(\"host\"),\n",
    "        port=os.getenv(\"port\"),\n",
    "        database=os.getenv(\"dbname\"),\n",
    "    )\n",
    "    engine = create_engine(url)\n",
    "    return engine\n",
    "\n",
    "engine = get_pg_engine()\n",
    "\n",
    "def get_24h_stats(engine):\n",
    "    query = \"\"\"\n",
    "    SELECT\n",
    "        station_id,\n",
    "        TO_CHAR((timestamp AT TIME ZONE 'UTC' AT TIME ZONE 'America/Montreal'), 'HH24:MI') AS time_15min,\n",
    "        (num_docks_available::float / (num_docks_available+num_bikes_available)) AS score\n",
    "    FROM\n",
    "        bixi_dispo\n",
    "    WHERE (num_docks_available + num_bikes_available) > 0;;\n",
    "    \"\"\"\n",
    "    return pd.read_sql(query, con=engine)\n",
    "\n",
    "def get_24h_stats_id(station_id,engine):\n",
    "    query = f\"\"\"\n",
    "    SELECT\n",
    "        station_id,\n",
    "        TO_CHAR((timestamp AT TIME ZONE 'UTC' AT TIME ZONE 'America/Montreal'), 'HH24:MI') AS time_15min,\n",
    "        (num_docks_available::float / (num_docks_available+num_bikes_available)) AS score\n",
    "    FROM\n",
    "        bixi_dispo\n",
    "    WHERE station_id = '{station_id}' AND (num_docks_available + num_bikes_available) > 0;;\n",
    "    \"\"\"\n",
    "    return pd.read_sql(query, con=engine)"
   ]
  },
  {
   "cell_type": "code",
   "execution_count": 6,
   "id": "0e6522f9",
   "metadata": {},
   "outputs": [],
   "source": [
    "import numpy as np\n",
    "import matplotlib.pyplot as plt\n",
    "import matplotlib.colors as mcolors\n",
    "\n",
    "def create_station_chart(station_id,engine,station_info_df):\n",
    "    df = get_24h_stats_id(station_id,engine)\n",
    "    bins = np.linspace(0, 1, 11)\n",
    "    df['score_bin'] = pd.cut(df['score'], bins=bins, include_lowest=True)\n",
    "    bin_counts = df.groupby(['station_id','time_15min', 'score_bin'],observed=False).size().reset_index(name='count')\n",
    "    pivot = bin_counts.pivot(index='time_15min', columns='score_bin', values='count').fillna(0)\n",
    "    time_array = pivot.index.to_numpy()        \n",
    "    score_bin_arrays = {bin_label: pivot[bin_label].to_numpy() for bin_label in pivot.columns}    \n",
    "    total_arr = []\n",
    "    bin_ix = []\n",
    "    for key in score_bin_arrays.keys():\n",
    "        total_arr.append(score_bin_arrays[key])\n",
    "        bin_ix.append(key) \n",
    "\n",
    "    stacked = np.vstack(total_arr).astype(float)\n",
    "    stacked /= stacked.sum(axis=0)\n",
    "\n",
    "    cmap = plt.cm.seismic \n",
    "    colors = [mcolors.to_hex(cmap(i)) for i in np.linspace(0.6, 0.3, bins.shape[0])]\n",
    "\n",
    "    # Plot\n",
    "    fig, ax = plt.subplots(figsize=(4, 3))\n",
    "    ax.stackplot(time_array, stacked, colors=colors, edgecolor='none')\n",
    "    ax.set_title(station_info_df[station_info_df[\"station_id\"] == station_id][\"name\"].item(), fontsize=12)\n",
    "    ax.set_ylim(0, 1)\n",
    "    tick_interval = 4 * 4  # 2hours\n",
    "    xticks = time_array[::tick_interval]\n",
    "    ax.set_xticks(xticks)\n",
    "    plt.tight_layout()\n",
    "    plt.show()\n"
   ]
  },
  {
   "cell_type": "code",
   "execution_count": 7,
   "id": "5a4711a8",
   "metadata": {},
   "outputs": [],
   "source": [
    "BINS = np.linspace(0, 1, 11)\n",
    "CAMP = plt.cm.seismic\n",
    "COLORS = [mcolors.to_hex(CAMP(i)) for i in np.linspace(0.6, 0.3, BINS.shape[0])]\n",
    "\n",
    "\n",
    "def create_station_chart_subplot(ax, station_id, station_df, station_info_df):\n",
    "    df = station_df.copy()\n",
    "    df['score_bin'] = pd.cut(df['score'], bins=BINS, include_lowest=True)\n",
    "    bin_counts = df.groupby(['station_id', 'time_15min', 'score_bin'], observed=False).size().reset_index(name='count')\n",
    "    all_bins = pd.Categorical(pd.cut([0.0], bins=BINS, include_lowest=True)).categories\n",
    "    pivot = bin_counts.pivot(index='time_15min', columns='score_bin', values='count')\n",
    "    pivot = pivot.reindex(columns=all_bins, fill_value=0).fillna(0)\n",
    "\n",
    "    time_array = pivot.index.to_numpy()\n",
    "    # Convert interval bin labels to strings to avoid dtype issues\n",
    "    pivot.columns = pivot.columns.astype(str)\n",
    "    stacked = pivot.to_numpy().T.astype(float)\n",
    "\n",
    "    # Normalize safely\n",
    "    col_sums = stacked.sum(axis=0)\n",
    "    col_sums[col_sums == 0] = 1  # Avoid divide by zero\n",
    "    stacked /= col_sums\n",
    "\n",
    "    # Plot on provided axis\n",
    "    ax.stackplot(time_array, stacked, colors=COLORS, edgecolor='none')\n",
    "    station_name = station_info_df[station_info_df[\"station_id\"] == station_id][\"name\"].item()\n",
    "    ax.set_title(station_name, fontsize=8)\n",
    "    ax.set_ylim(0, 1)\n",
    "\n",
    "    tick_interval = 4 * 4  # 4 hours\n",
    "    xticks = time_array[::tick_interval]\n",
    "    ax.set_xticks(xticks)\n",
    "\n",
    "    # Optional: smaller font size and hide y-axis ticks for compactness\n",
    "    ax.tick_params(axis='x', labelsize=6)\n",
    "    ax.tick_params(axis='y', labelsize=6)\n",
    "    ax.set_yticks([])  # hide y-axis ticks to reduce clutter\n"
   ]
  },
  {
   "cell_type": "code",
   "execution_count": 8,
   "id": "5d18ca22",
   "metadata": {},
   "outputs": [
    {
     "data": {
      "image/png": "[encoded data removed]",
      "text/plain": [
       "<Figure size 400x300 with 1 Axes>"
      ]
     },
     "metadata": {},
     "output_type": "display_data"
    }
   ],
   "source": [
    "station_id = \"131\"\n",
    "create_station_chart(station_id,engine,station_info_df)"
   ]
  },
  {
   "cell_type": "code",
   "execution_count": 9,
   "id": "699ff5a0",
   "metadata": {},
   "outputs": [],
   "source": [
    "import traceback\n",
    "from matplotlib.cm import ScalarMappable\n",
    "from matplotlib.colors import Normalize\n",
    "from tqdm import tqdm\n",
    "import matplotlib.pyplot as plt\n",
    "\n",
    "def do_all(station_info_df, engine):\n",
    "    df_all = get_24h_stats(engine)\n",
    "    station_ids = df_all['station_id'].unique().astype(str).tolist()\n",
    "    plots_per_row = 5\n",
    "    num_plots = len(station_ids)\n",
    "    num_rows = (num_plots + plots_per_row - 1) // plots_per_row\n",
    "\n",
    "    cmap = plt.cm.seismic  # Define your colormap here\n",
    "\n",
    "    fig, axes = plt.subplots(num_rows, plots_per_row, figsize=(plots_per_row*4, num_rows*3), squeeze=False)\n",
    "\n",
    "    for i, station_id in tqdm(enumerate(station_ids), total=num_plots):\n",
    "        row = i // plots_per_row\n",
    "        col = i % plots_per_row\n",
    "        ax = axes[row, col]\n",
    "        station_df = df_all[df_all['station_id'] == int(station_id)]\n",
    "        if len(station_df) == 0:\n",
    "            continue\n",
    "        try:\n",
    "            create_station_chart_subplot(ax, station_id, station_df, station_info_df)\n",
    "        except Exception as e:\n",
    "            print(f\"Error with station {station_id} at index {i}: {e}\")\n",
    "            traceback.print_exc()\n",
    "\n",
    "    # Hide unused subplots if any\n",
    "    for j in range(num_plots, num_rows * plots_per_row):\n",
    "        fig.delaxes(axes.flatten()[j])\n",
    "\n",
    "    fig.tight_layout()\n",
    "    fig.savefig(\"all_stations.svg\", format='svg')\n",
    "    plt.close(fig)\n"
   ]
  },
  {
   "cell_type": "code",
   "execution_count": 10,
   "id": "47de4496",
   "metadata": {},
   "outputs": [
    {
     "name": "stderr",
     "output_type": "stream",
     "text": [
      "100%|██████████| 967/967 [00:27<00:00, 35.21it/s]\n"
     ]
    }
   ],
   "source": [
    "do_all(station_info_df,engine)"
   ]
  },
  {
   "cell_type": "code",
   "execution_count": null,
   "id": "3176ebfc",
   "metadata": {},
   "outputs": [],
   "source": []
  },
  {
   "cell_type": "code",
   "execution_count": 11,
   "id": "eebc2ebb",
   "metadata": {},
   "outputs": [
    {
     "data": {
      "text/plain": [
       "'Fabre / Jean-Talon'"
      ]
     },
     "execution_count": 11,
     "metadata": {},
     "output_type": "execute_result"
    }
   ],
   "source": [
    "station_info_df[station_info_df[\"station_id\"] == station_id][\"name\"].item()"
   ]
  },
  {
   "cell_type": "code",
   "execution_count": 12,
   "id": "ef4d7a5f",
   "metadata": {},
   "outputs": [],
   "source": [
    "df_all = get_24h_stats(engine)"
   ]
  },
  {
   "cell_type": "code",
   "execution_count": 13,
   "id": "d2000f3a",
   "metadata": {},
   "outputs": [],
   "source": [
    "station_ids = df_all['station_id'].unique().astype(str).tolist()"
   ]
  },
  {
   "cell_type": "code",
   "execution_count": null,
   "id": "5767625f",
   "metadata": {},
   "outputs": [],
   "source": []
  },
  {
   "cell_type": "code",
   "execution_count": 14,
   "id": "56ef7447",
   "metadata": {},
   "outputs": [
    {
     "data": {
      "image/png": "[encoded data removed]",
      "text/plain": [
       "<Figure size 400x300 with 1 Axes>"
      ]
     },
     "metadata": {},
     "output_type": "display_data"
    }
   ],
   "source": [
    "station_ids[3]\n",
    "fig, axes = plt.subplots(1, 1, figsize=(1*4, 1*3), squeeze=False)\n",
    "ax = axes[0,0]\n",
    "station_df = df_all[df_all['station_id'] == int(station_id)]\n",
    "try : \n",
    "    create_station_chart_subplot(ax, station_id,station_df, station_info_df )\n",
    "except Exception as e:\n",
    "    print(e)"
   ]
  },
  {
   "cell_type": "code",
   "execution_count": 15,
   "id": "9b279b12",
   "metadata": {},
   "outputs": [
    {
     "data": {
      "text/plain": [
       "674"
      ]
     },
     "execution_count": 15,
     "metadata": {},
     "output_type": "execute_result"
    }
   ],
   "source": [
    "len(station_df)"
   ]
  },
  {
   "cell_type": "code",
   "execution_count": 16,
   "id": "0390c9c4",
   "metadata": {},
   "outputs": [],
   "source": [
    "df_all = get_24h_stats(engine)\n"
   ]
  },
  {
   "cell_type": "code",
   "execution_count": 17,
   "id": "273d96d4",
   "metadata": {},
   "outputs": [],
   "source": [
    "station_id = \"24\""
   ]
  },
  {
   "cell_type": "code",
   "execution_count": 18,
   "id": "a38f2af2",
   "metadata": {},
   "outputs": [
    {
     "data": {
      "image/png": "[encoded data removed]",
      "text/plain": [
       "<Figure size 400x300 with 1 Axes>"
      ]
     },
     "metadata": {},
     "output_type": "display_data"
    }
   ],
   "source": [
    "fig, axes = plt.subplots(1, 1, figsize=(1*4, 1*3), squeeze=False)\n",
    "\n",
    "station_df = df_all[df_all['station_id'] == int(station_id)]\n",
    "ax = axes[0,0]\n",
    "create_station_chart_subplot(ax, station_id,station_df,station_info_df )\n"
   ]
  },
  {
   "cell_type": "code",
   "execution_count": 19,
   "id": "5859c7c3",
   "metadata": {},
   "outputs": [
    {
     "data": {
      "application/vnd.microsoft.datawrangler.viewer.v0+json": {
       "columns": [
        {
         "name": "index",
         "rawType": "int64",
         "type": "integer"
        },
        {
         "name": "score",
         "rawType": "float64",
         "type": "float"
        }
       ],
       "ref": "bd647c54-724c-496b-a279-bda56a502b43",
       "rows": [
        [
         "23",
         "0.0666666666666667"
        ],
        [
         "979",
         "0.133333333333333"
        ],
        [
         "1935",
         "0.2"
        ],
        [
         "2891",
         "0.266666666666667"
        ],
        [
         "3847",
         "0.2"
        ],
        [
         "4803",
         "0.266666666666667"
        ],
        [
         "5759",
         "0.266666666666667"
        ],
        [
         "6715",
         "0.266666666666667"
        ],
        [
         "7671",
         "0.133333333333333"
        ],
        [
         "8627",
         "0.133333333333333"
        ],
        [
         "9583",
         "0.0666666666666667"
        ],
        [
         "10539",
         "0.0"
        ],
        [
         "11495",
         "0.133333333333333"
        ],
        [
         "12451",
         "0.2"
        ],
        [
         "13407",
         "0.4"
        ],
        [
         "14363",
         "0.333333333333333"
        ],
        [
         "15325",
         "0.466666666666667"
        ],
        [
         "16287",
         "0.533333333333333"
        ],
        [
         "17249",
         "0.4"
        ],
        [
         "18211",
         "0.733333333333333"
        ],
        [
         "19173",
         "0.933333333333333"
        ],
        [
         "20135",
         "0.733333333333333"
        ],
        [
         "21097",
         "0.733333333333333"
        ],
        [
         "22059",
         "0.733333333333333"
        ],
        [
         "23021",
         "0.733333333333333"
        ],
        [
         "23983",
         "0.8"
        ],
        [
         "24945",
         "0.6"
        ],
        [
         "25907",
         "0.533333333333333"
        ],
        [
         "26869",
         "0.533333333333333"
        ],
        [
         "27831",
         "0.533333333333333"
        ],
        [
         "28793",
         "0.6"
        ],
        [
         "29755",
         "0.533333333333333"
        ],
        [
         "30717",
         "0.428571428571429"
        ],
        [
         "31679",
         "0.428571428571429"
        ],
        [
         "32641",
         "0.4"
        ],
        [
         "33603",
         "0.2"
        ],
        [
         "34565",
         "0.2"
        ],
        [
         "35528",
         "0.0"
        ],
        [
         "36491",
         "0.2"
        ],
        [
         "37454",
         "0.266666666666667"
        ],
        [
         "38417",
         "0.266666666666667"
        ],
        [
         "39380",
         "0.266666666666667"
        ],
        [
         "40343",
         "0.333333333333333"
        ],
        [
         "41306",
         "0.533333333333333"
        ],
        [
         "42269",
         "0.533333333333333"
        ],
        [
         "43232",
         "0.6"
        ],
        [
         "44195",
         "0.4"
        ],
        [
         "45158",
         "0.2"
        ],
        [
         "46121",
         "0.333333333333333"
        ],
        [
         "47084",
         "0.333333333333333"
        ]
       ],
       "shape": {
        "columns": 1,
        "rows": 674
       }
      },
      "text/plain": [
       "23        0.066667\n",
       "979       0.133333\n",
       "1935      0.200000\n",
       "2891      0.266667\n",
       "3847      0.200000\n",
       "            ...   \n",
       "645501    0.533333\n",
       "646467    0.466667\n",
       "647433    0.466667\n",
       "648399    0.600000\n",
       "649365    0.600000\n",
       "Name: score, Length: 674, dtype: float64"
      ]
     },
     "execution_count": 19,
     "metadata": {},
     "output_type": "execute_result"
    }
   ],
   "source": [
    "station_df[\"score\"]"
   ]
  }
 ],
 "metadata": {
  "kernelspec": {
   "display_name": "bixivenv",
   "language": "python",
   "name": "python3"
  },
  "language_info": {
   "codemirror_mode": {
    "name": "ipython",
    "version": 3
   },
   "file_extension": ".py",
   "mimetype": "text/x-python",
   "name": "python",
   "nbconvert_exporter": "python",
   "pygments_lexer": "ipython3",
   "version": "3.10.17"
  }
 },
 "nbformat": 4,
 "nbformat_minor": 5
}
